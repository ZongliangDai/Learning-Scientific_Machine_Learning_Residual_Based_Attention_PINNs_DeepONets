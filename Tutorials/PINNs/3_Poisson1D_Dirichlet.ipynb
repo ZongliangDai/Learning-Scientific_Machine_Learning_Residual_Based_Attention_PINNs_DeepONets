{
  "cells": [
    {
      "cell_type": "markdown",
      "metadata": {},
      "source": [
        "# Problem : Poisson Equation"
      ]
    },
    {
      "cell_type": "markdown",
      "metadata": {},
      "source": [
        "## 1. 1D Poisson Equation"
      ]
    },
    {
      "cell_type": "markdown",
      "metadata": {},
      "source": [
        "Poisson Equation is\n",
        "$$\\frac{d^2\\phi}{dx^2}=-\\rho$$\n",
        "with the source term\n",
        "$$\\rho=-sin(x)$$\n",
        "\n",
        "and the Dirichlet boundary conditions is used\n",
        "$$\\phi(0)=\\phi(2\\pi)=0$$\n",
        "\n",
        "Analytical solution is\n",
        "$$\\phi(x)=sin(x)$$"
      ]
    },
    {
      "cell_type": "markdown",
      "metadata": {
        "id": "Y61YA90-WIZ1"
      },
      "source": [
        "### 1.1 **Import** *Libraries*"
      ]
    },
    {
      "cell_type": "code",
      "execution_count": 88,
      "metadata": {
        "colab": {
          "base_uri": "https://localhost:8080/"
        },
        "id": "WZrPCr9GWEAJ",
        "outputId": "7ac89e94-8e0e-4512-e34a-68d9099da382"
      },
      "outputs": [
        {
          "name": "stdout",
          "output_type": "stream",
          "text": [
            "Requirement already satisfied: pyDOE in c:\\users\\73463\\appdata\\local\\programs\\python\\python310\\lib\\site-packages (0.3.8)\n",
            "Requirement already satisfied: numpy in c:\\users\\73463\\appdata\\local\\programs\\python\\python310\\lib\\site-packages (from pyDOE) (1.26.4)\n",
            "Requirement already satisfied: scipy in c:\\users\\73463\\appdata\\local\\programs\\python\\python310\\lib\\site-packages (from pyDOE) (1.12.0)\n"
          ]
        }
      ],
      "source": [
        " ! pip install pyDOE"
      ]
    },
    {
      "cell_type": "code",
      "execution_count": 89,
      "metadata": {
        "colab": {
          "base_uri": "https://localhost:8080/"
        },
        "id": "OdYMzuSDi7Js",
        "outputId": "b0790762-b875-4f2c-ca4c-846a80e921ad"
      },
      "outputs": [
        {
          "name": "stdout",
          "output_type": "stream",
          "text": [
            "cpu\n"
          ]
        }
      ],
      "source": [
        "import torch\n",
        "import torch.autograd as autograd         # computation graph\n",
        "from torch import Tensor                  # tensor node in the computation graph\n",
        "import torch.nn as nn                     # neural networks\n",
        "import torch.optim as optim               # optimizers e.g. gradient descent, ADAM, etc.\n",
        "\n",
        "import matplotlib.pyplot as plt\n",
        "import matplotlib.gridspec as gridspec\n",
        "from mpl_toolkits.axes_grid1 import make_axes_locatable\n",
        "from mpl_toolkits.mplot3d import Axes3D\n",
        "import matplotlib.ticker\n",
        "from sklearn.model_selection import train_test_split\n",
        "\n",
        "import numpy as np\n",
        "import time\n",
        "from pyDOE import lhs         #Latin Hypercube Sampling\n",
        "import scipy.io\n",
        "\n",
        "#Set default dtype to float32\n",
        "torch.set_default_dtype(torch.float)\n",
        "\n",
        "#PyTorch random number generator\n",
        "torch.manual_seed(1234)\n",
        "\n",
        "# Random number generators in other libraries\n",
        "np.random.seed(1234)\n",
        "\n",
        "# Device configuration\n",
        "device = torch.device('cuda' if torch.cuda.is_available() else 'cpu')\n",
        "\n",
        "print(device)\n",
        "\n",
        "if device == 'cuda': \n",
        "    print(torch.cuda.get_device_name()) "
      ]
    },
    {
      "cell_type": "markdown",
      "metadata": {},
      "source": [
        "### 1.2 **DEF** *Function*"
      ]
    },
    {
      "cell_type": "markdown",
      "metadata": {},
      "source": [
        "#### 1.2.1 定义域"
      ]
    },
    {
      "cell_type": "code",
      "execution_count": 90,
      "metadata": {},
      "outputs": [],
      "source": [
        "min=0\n",
        "max=2*np.pi"
      ]
    },
    {
      "cell_type": "markdown",
      "metadata": {},
      "source": [
        "#### 1.2.2 基本函数"
      ]
    },
    {
      "cell_type": "code",
      "execution_count": 91,
      "metadata": {},
      "outputs": [],
      "source": [
        "def rho(x):\n",
        "  return torch.sin(x)\n",
        "\n",
        "def phi_BC(xBC):\n",
        "  return 0.0*xBC\n",
        "\n",
        "def phi_Analytic(x):\n",
        "  return torch.sin(x)"
      ]
    },
    {
      "cell_type": "markdown",
      "metadata": {},
      "source": [
        "### 1.3 展示理论公式"
      ]
    },
    {
      "cell_type": "code",
      "execution_count": 92,
      "metadata": {},
      "outputs": [
        {
          "data": {
            "text/plain": [
              "<matplotlib.legend.Legend at 0x18b1a89c5e0>"
            ]
          },
          "execution_count": 92,
          "metadata": {},
          "output_type": "execute_result"
        },
        {
          "data": {
            "image/png": "[encoded data removed]",
            "text/plain": [
              "<Figure size 640x480 with 1 Axes>"
            ]
          },
          "metadata": {},
          "output_type": "display_data"
        }
      ],
      "source": [
        "nx=500\n",
        "x = torch.linspace(min,max,nx).view(-1,1)\n",
        "\n",
        "yxx = rho(x)\n",
        "y0 = phi_Analytic(x)\n",
        "\n",
        "fig, ax1 = plt.subplots()\n",
        "ax1.plot(x.detach().numpy(),yxx.detach().numpy(),color='blue',label='df2/dx2')\n",
        "ax1.plot(x.detach().numpy(),y0.detach().numpy(),color='red',label='f(x)')\n",
        "#ax1.plot(x_train.detach().numpy(),yh.detach().numpy(),color='red',label='Pred_Train')\n",
        "ax1.set_xlabel('x',color='black')\n",
        "ax1.set_ylabel('y',color='black')\n",
        "ax1.tick_params(axis='y', color='black')\n",
        "ax1.legend(loc = 'upper left')"
      ]
    },
    {
      "cell_type": "markdown",
      "metadata": {},
      "source": [
        "## 2. Neural Network"
      ]
    },
    {
      "cell_type": "markdown",
      "metadata": {},
      "source": [
        "### 2.1 生成数据集"
      ]
    },
    {
      "cell_type": "markdown",
      "metadata": {},
      "source": [
        "#### 2.1.1 参数选取"
      ]
    },
    {
      "cell_type": "code",
      "execution_count": 93,
      "metadata": {},
      "outputs": [],
      "source": [
        "steps=5000\n",
        "lr=1e-4\n",
        "layers = np.array([1,50,50,20,50,50,1]) #5 hidden layers\n",
        "\n",
        "# Nbc: Number of training points at boundaries\n",
        "# Nde: Number of collocation points (Evaluate PDE)\n",
        "nBC=50\n",
        "nDE=500"
      ]
    },
    {
      "cell_type": "markdown",
      "metadata": {},
      "source": [
        "#### 2.1.2 定义采样函数"
      ]
    },
    {
      "cell_type": "code",
      "execution_count": 94,
      "metadata": {},
      "outputs": [],
      "source": [
        "def SmpBC(ran):\n",
        "  if ran<0.5:\n",
        "    return ran*0.0+min\n",
        "  else:\n",
        "    return ran*0.0+max\n",
        "  #return ran*0.0+min\n",
        "\n",
        "def SmpDE(ran):\n",
        "  return min+ran*(max-min)"
      ]
    },
    {
      "cell_type": "markdown",
      "metadata": {},
      "source": [
        "#### 2.1.3 随机采样"
      ]
    },
    {
      "cell_type": "code",
      "execution_count": 95,
      "metadata": {},
      "outputs": [],
      "source": [
        "torch.manual_seed(2412)\n",
        "\n",
        "'''\n",
        "\n",
        "# 将x的第一行和最后一行进行垂直堆叠，得到BC_tmp\n",
        "BC_1=x[0,:]\n",
        "BC_2=x[-1,:]\n",
        "BC_tmp=torch.vstack([BC_1,BC_2])\n",
        "\n",
        "# 从BC_tmp中随机选择Nbc个元素，构成x_BC\n",
        "xBC=BC_tmp[np.random.choice(BC_tmp.shape[0],Nbc,replace=False)]\n",
        "phiBC=phi_BC(xBC)\n",
        "\n",
        "# Latin Hypercube sampling for collocation points \n",
        "xDE = BC_1 + (BC_2-BC_1)*lhs(1,Nde)\n",
        "xDE = torch.vstack((xBC,xDE)) # 训练集包含边界条件点\n",
        "rhoDE = rho(xDE)\n",
        "\n",
        "'''\n",
        "\n",
        "RanBC = torch.rand(nBC)\n",
        "RanDE = torch.rand(nDE)\n",
        "\n",
        "xBC = torch.tensor([SmpBC(ran) for ran in RanBC]).unsqueeze(-1)\n",
        "phiBC = phi_BC(xBC)\n",
        "\n",
        "xDE = torch.stack([SmpDE(ran) for ran in RanDE]).unsqueeze(-1)\n",
        "xDE = torch.vstack((xBC,xDE))\n",
        "rhoDE = rho(xDE)\n",
        "\n",
        "#'''\n",
        "\n",
        "xDE=xDE.float().to(device)\n",
        "rhoDE=rhoDE.float().to(device)\n",
        "xBC=xBC.float().to(device)\n",
        "phiBC=phiBC.float().to(device)"
      ]
    },
    {
      "cell_type": "markdown",
      "metadata": {},
      "source": [
        "### 2.2 Residual Definition"
      ]
    },
    {
      "cell_type": "markdown",
      "metadata": {},
      "source": [
        "The residual will be:\n",
        "$$R = R_{DE} + R_{BC}$$\n",
        "\n",
        "with\n",
        "$$R_{DE}(x)=M_{xx}(x)+\\rho(x)$$\n",
        "$$R_{BC}(x_{BC})=M(x_{BC}) - \\phi(x_{BC})$$\n",
        "\n",
        "$M(x)$ is the Neural Network Model prediction value of $\\phi(x)$;\n",
        "\n",
        "$M_{xx}(x)$ is the Neural Network Model prediction value of $\\phi_{xx}(x)$"
      ]
    },
    {
      "cell_type": "markdown",
      "metadata": {},
      "source": [
        "### 2.3 生成神经网络模型"
      ]
    },
    {
      "cell_type": "markdown",
      "metadata": {},
      "source": [
        "#### 2.3.1. **DEF** *Function*"
      ]
    },
    {
      "cell_type": "code",
      "execution_count": 96,
      "metadata": {},
      "outputs": [],
      "source": [
        "class FCN(nn.Module):\n",
        "\n",
        "    'Neural Network'\n",
        "    def __init__(self,layers):\n",
        "        super().__init__() #call __init__ from parent class \n",
        "        'activation function'\n",
        "        self.activation = nn.Tanh()\n",
        "        'loss function'\n",
        "        self.loss_function = nn.MSELoss(reduction ='mean')\n",
        "        'Initialise neural network as a list using nn.Modulelist'  \n",
        "        self.linears = nn.ModuleList([nn.Linear(layers[i], layers[i+1]) for i in range(len(layers)-1)]) \n",
        "        self.iter = 0\n",
        "        'Xavier Normal Initialization'\n",
        "        # std = gain * sqrt(2/(input_dim+output_dim))\n",
        "        for i in range(len(layers)-1):\n",
        "            # weights from a normal distribution with \n",
        "            # Recommended gain value for tanh = 5/3?\n",
        "            nn.init.xavier_normal_(self.linears[i].weight.data, gain=1.0)\n",
        "            # set biases to zero\n",
        "            nn.init.zeros_(self.linears[i].bias.data)\n",
        "\n",
        "    'foward pass'\n",
        "    def forward(self,x):\n",
        "        if torch.is_tensor(x) != True:         \n",
        "            x = torch.from_numpy(x)                \n",
        "        a = x.float()\n",
        "        for i in range(len(layers)-2):  \n",
        "            z = self.linears[i](a)              \n",
        "            a = self.activation(z)    \n",
        "        a = self.linears[-1](a)\n",
        "        return a\n",
        "\n",
        "    def closure(self):\n",
        "        optimizer.zero_grad()\n",
        "        loss = self.loss(x_train,y_train)\n",
        "        loss.backward() \n",
        "        self.iter += 1\n",
        "        if self.iter % 100 == 0:\n",
        "            print(loss)\n",
        "        return loss\n",
        "\n",
        "    'Loss Functions'\n",
        "    #Loss Boundary Condition\n",
        "    def lossBC(self,xBC,phiBC):\n",
        "      lossBC=self.loss_function(self.forward(xBC),phiBC)\n",
        "      return lossBC\n",
        "\n",
        "    #Loss Differential Equation\n",
        "    def lossDE(self,xDE,rhoDE):\n",
        "      g=xDE.clone()\n",
        "      g.requires_grad=True\n",
        "      # Enable differentiation\n",
        "      phi=self.forward(g)\n",
        "\n",
        "      # First derivative\n",
        "      phi_x=autograd.grad(phi,g,torch.ones([xDE.shape[0],1]).to(device),retain_graph=True,create_graph=True)[0]\n",
        "\n",
        "      # Second derivative\n",
        "      phi_xx=autograd.grad(phi_x,g,torch.ones([xDE.shape[0],1]).to(device),retain_graph=True,create_graph=True)[0]\n",
        "\n",
        "      loss_DE=self.loss_function(phi_xx,-rhoDE)\n",
        "      return loss_DE\n",
        "\n",
        "    def loss(self,xBC,phiBC,xDE,rhoDE):\n",
        "      lossBC=self.lossBC(xBC,phiBC)\n",
        "      lossDE=self.lossDE(xDE,rhoDE)\n",
        "      return lossBC+lossDE"
      ]
    },
    {
      "cell_type": "code",
      "execution_count": 97,
      "metadata": {},
      "outputs": [
        {
          "data": {
            "text/plain": [
              "FCN(\n",
              "  (activation): Tanh()\n",
              "  (loss_function): MSELoss()\n",
              "  (linears): ModuleList(\n",
              "    (0): Linear(in_features=1, out_features=50, bias=True)\n",
              "    (1): Linear(in_features=50, out_features=50, bias=True)\n",
              "    (2): Linear(in_features=50, out_features=20, bias=True)\n",
              "    (3): Linear(in_features=20, out_features=50, bias=True)\n",
              "    (4): Linear(in_features=50, out_features=50, bias=True)\n",
              "    (5): Linear(in_features=50, out_features=1, bias=True)\n",
              "  )\n",
              ")"
            ]
          },
          "execution_count": 97,
          "metadata": {},
          "output_type": "execute_result"
        }
      ],
      "source": [
        "model = FCN(layers)\n",
        "model.to(device)"
      ]
    },
    {
      "cell_type": "markdown",
      "metadata": {},
      "source": [
        "#### 2.3.2 选择优化算法"
      ]
    },
    {
      "cell_type": "code",
      "execution_count": 98,
      "metadata": {},
      "outputs": [],
      "source": [
        "optimizer = torch.optim.Adam(model.parameters(),lr=lr,amsgrad=False)"
      ]
    },
    {
      "cell_type": "markdown",
      "metadata": {},
      "source": [
        "### 2.4 迭代训练"
      ]
    },
    {
      "cell_type": "code",
      "execution_count": 99,
      "metadata": {},
      "outputs": [
        {
          "name": "stdout",
          "output_type": "stream",
          "text": [
            "tensor(0.7992, grad_fn=<AddBackward0>)\n",
            "tensor(0.1353, grad_fn=<AddBackward0>)\n",
            "tensor(0.0035, grad_fn=<AddBackward0>)\n",
            "tensor(0.0002, grad_fn=<AddBackward0>)\n",
            "tensor(0.0001, grad_fn=<AddBackward0>)\n",
            "tensor(6.4737e-05, grad_fn=<AddBackward0>)\n",
            "tensor(4.2244e-05, grad_fn=<AddBackward0>)\n",
            "tensor(2.1598e-05, grad_fn=<AddBackward0>)\n",
            "tensor(1.6676e-05, grad_fn=<AddBackward0>)\n",
            "tensor(1.2904e-05, grad_fn=<AddBackward0>)\n"
          ]
        }
      ],
      "source": [
        "start_time = time.time()\n",
        "\n",
        "for i in range(steps):  \n",
        "  optimizer.zero_grad()\n",
        "  yh = model(xDE)\n",
        "  loss = model.loss(xBC,phiBC,xDE,rhoDE)\n",
        "  loss.backward()\n",
        "  optimizer.step()\n",
        "  if i%(steps/10)==0:\n",
        "    print(loss)"
      ]
    },
    {
      "cell_type": "markdown",
      "metadata": {},
      "source": [
        "## 3. 模型预测结果"
      ]
    },
    {
      "cell_type": "markdown",
      "metadata": {},
      "source": [
        "### 3.1 诊断函数"
      ]
    },
    {
      "cell_type": "code",
      "execution_count": 100,
      "metadata": {},
      "outputs": [],
      "source": [
        "min=0\n",
        "max=2*np.pi\n",
        "total_points=371\n",
        "\n",
        "xP = torch.linspace(min,max,total_points).view(-1,1)"
      ]
    },
    {
      "cell_type": "markdown",
      "metadata": {},
      "source": [
        "### 3.2 x-model(x)和x-f(x)"
      ]
    },
    {
      "cell_type": "code",
      "execution_count": 101,
      "metadata": {},
      "outputs": [
        {
          "data": {
            "text/plain": [
              "<matplotlib.legend.Legend at 0x18b1acd0d30>"
            ]
          },
          "execution_count": 101,
          "metadata": {},
          "output_type": "execute_result"
        },
        {
          "data": {
            "image/png": "[encoded data removed]",
            "text/plain": [
              "<Figure size 640x480 with 1 Axes>"
            ]
          },
          "metadata": {},
          "output_type": "display_data"
        }
      ],
      "source": [
        "fig, ax1 = plt.subplots()\n",
        "ax1.plot(xP.detach().numpy(),phi_Analytic(xP).detach().numpy(),color='blue',label='f_Analytic')\n",
        "ax1.plot(xP.detach().numpy(),model(xP).detach().numpy(),color='red',label='f_Model')\n",
        "ax1.set_xlabel('x',color='black')\n",
        "ax1.set_ylabel('f(x)',color='black')\n",
        "ax1.tick_params(axis='y', color='black')\n",
        "ax1.legend(loc = 'upper left')"
      ]
    },
    {
      "cell_type": "markdown",
      "metadata": {},
      "source": [
        "### 3.3 误差图x-[model(x)-f(x)]"
      ]
    },
    {
      "cell_type": "code",
      "execution_count": 102,
      "metadata": {},
      "outputs": [
        {
          "data": {
            "text/plain": [
              "<matplotlib.legend.Legend at 0x18b1af48550>"
            ]
          },
          "execution_count": 102,
          "metadata": {},
          "output_type": "execute_result"
        },
        {
          "data": {
            "image/png": "[encoded data removed]",
            "text/plain": [
              "<Figure size 640x480 with 1 Axes>"
            ]
          },
          "metadata": {},
          "output_type": "display_data"
        }
      ],
      "source": [
        "fig, ax1 = plt.subplots()\n",
        "ax1.plot(xP.detach().numpy(),(phi_Analytic(xP)-model(xP)).detach().numpy(),color='blue',label='Difference')\n",
        "ax1.set_xlabel('x',color='black')\n",
        "ax1.set_ylabel('f(x)',color='black')\n",
        "ax1.tick_params(axis='y', color='black')\n",
        "ax1.legend(loc = 'upper left')"
      ]
    }
  ],
  "metadata": {
    "accelerator": "GPU",
    "colab": {
      "collapsed_sections": [
        "Y61YA90-WIZ1",
        "ZHYqtyYJs3Jv"
      ],
      "include_colab_link": true,
      "machine_shape": "hm",
      "name": "3.Poisson1D_Dirichlet.ipynb",
      "provenance": []
    },
    "kernelspec": {
      "display_name": "Python 3",
      "name": "python3"
    },
    "language_info": {
      "codemirror_mode": {
        "name": "ipython",
        "version": 3
      },
      "file_extension": ".py",
      "mimetype": "text/x-python",
      "name": "python",
      "nbconvert_exporter": "python",
      "pygments_lexer": "ipython3",
      "version": "3.10.7"
    }
  },
  "nbformat": 4,
  "nbformat_minor": 0
}
