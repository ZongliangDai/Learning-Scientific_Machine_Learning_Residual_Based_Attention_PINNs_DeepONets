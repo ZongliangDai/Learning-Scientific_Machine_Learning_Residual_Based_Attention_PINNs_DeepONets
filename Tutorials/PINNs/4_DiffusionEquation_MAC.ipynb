{
  "cells": [
    {
      "cell_type": "markdown",
      "metadata": {
        "colab_type": "text",
        "id": "view-in-github"
      },
      "source": [
        "<a href=\"https://colab.research.google.com/github/jdtoscano94/Learning-PINNs-in-Pytorch-Physics-Informed-Machine-Learning/blob/main/4_DiffusionEquation.ipynb\" target=\"_parent\"><img src=\"https://colab.research.google.com/assets/colab-badge.svg\" alt=\"Open In Colab\"/></a>"
      ]
    },
    {
      "cell_type": "markdown",
      "metadata": {},
      "source": [
        "# Problem : **Diffusion Equation**"
      ]
    },
    {
      "cell_type": "markdown",
      "metadata": {},
      "source": [
        "PDE :\n",
        "$$\\frac{\\partial f}{\\partial t} =\\frac{\\partial^2 f}{\\partial x^2}-e^{-t}(sin(\\pi x)-\\pi^2 sin(\\pi x))$$\n",
        "$$x\\in[-1,1]$$\n",
        "$$t\\in[0,1]$$\n",
        "\n",
        "Initial Condition :\n",
        "$$f(x,0)=sin(\\pi x)$$\n",
        "\n",
        "Boundary Condition :\n",
        "$$f(-1,t)=f(1,t)=0$$\n",
        "\n",
        "Analytical Solution :\n",
        "$$f(x,t)=e^{-t}sin(\\pi x)$$"
      ]
    },
    {
      "cell_type": "markdown",
      "metadata": {
        "id": "Y61YA90-WIZ1"
      },
      "source": [
        "## **Import** *Libraries*"
      ]
    },
    {
      "cell_type": "code",
      "execution_count": 13,
      "metadata": {
        "colab": {
          "base_uri": "https://localhost:8080/"
        },
        "id": "OdYMzuSDi7Js",
        "outputId": "dc7c1686-9731-4c41-fe1c-c4ea328fd4c5"
      },
      "outputs": [
        {
          "name": "stdout",
          "output_type": "stream",
          "text": [
            "cpu\n"
          ]
        }
      ],
      "source": [
        "import torch\n",
        "import torch.autograd as autograd         # computation graph\n",
        "from torch import Tensor                  # tensor node in the computation graph\n",
        "import torch.nn as nn                     # neural networks\n",
        "import torch.optim as optim               # optimizers e.g. gradient descent, ADAM, etc.\n",
        "\n",
        "import matplotlib.pyplot as plt\n",
        "import matplotlib.gridspec as gridspec\n",
        "from mpl_toolkits.axes_grid1 import make_axes_locatable\n",
        "from mpl_toolkits.mplot3d import Axes3D\n",
        "import matplotlib.ticker\n",
        "from sklearn.model_selection import train_test_split\n",
        "\n",
        "import numpy as np\n",
        "import time\n",
        "from pyDOE import lhs         #Latin Hypercube Sampling\n",
        "import scipy.io\n",
        "\n",
        "#Set default dtype to float32\n",
        "torch.set_default_dtype(torch.float)\n",
        "\n",
        "#PyTorch random number generator\n",
        "torch.manual_seed(1234)\n",
        "\n",
        "# Random number generators in other libraries\n",
        "np.random.seed(1234)\n",
        "\n",
        "# Device configuration\n",
        "device = torch.device('cuda' if torch.cuda.is_available() else 'cpu')\n",
        "#device = \"mps\" if torch.backends.mps.is_available() else \"cpu\"\n",
        "\n",
        "print(device)\n",
        "\n"
      ]
    },
    {
      "cell_type": "markdown",
      "metadata": {},
      "source": [
        "## **DEF** *Function*"
      ]
    },
    {
      "cell_type": "code",
      "execution_count": 14,
      "metadata": {},
      "outputs": [],
      "source": [
        "def Source(x,t):\n",
        "  return -torch.exp(-t)*(1-np.pi*np.pi)*torch.sin(np.pi*x)\n",
        "\n",
        "def f_IC(x,t):\n",
        "  return torch.sin(np.pi*x)\n",
        "\n",
        "def f_BC(x,t):\n",
        "  return 0.0*x\n",
        "\n",
        "def f_Analytic(x,t):\n",
        "  return torch.exp(-t)*torch.sin(np.pi*x)"
      ]
    },
    {
      "cell_type": "markdown",
      "metadata": {},
      "source": [
        "## **DEF** *Neural Network*"
      ]
    },
    {
      "cell_type": "markdown",
      "metadata": {},
      "source": [
        "The residual will be:\n",
        "$$R = R_{DE} + R_{BC} + R_{IC}$$\n",
        "\n",
        "with\n",
        "$$R_{DE}(x,t)=M_{t}(x,t)-M_{xx}(x,t)-S(x,t)$$\n",
        "$$R_{BC}(x_{BC},t)=M(x_{BC},t) - f(x_{BC},t)$$\n",
        "$$R_{IC}(x,t)=M(x,t_{IC}) - f(x,t_{IC})$$\n",
        "\n",
        "$M(x)$ is the Neural Network Model prediction value of $f(x)$;"
      ]
    },
    {
      "cell_type": "code",
      "execution_count": 15,
      "metadata": {},
      "outputs": [],
      "source": [
        "class FCN(nn.Module):\n",
        "\n",
        "    'Neural Network'\n",
        "    def __init__(self,layers):\n",
        "        super().__init__() #call __init__ from parent class \n",
        "        'activation function'\n",
        "        self.activation = nn.Tanh()\n",
        "        'loss function'\n",
        "        self.loss_function = nn.MSELoss(reduction ='mean')\n",
        "        'Initialise neural network as a list using nn.Modulelist'  \n",
        "        self.linears = nn.ModuleList([nn.Linear(layers[i], layers[i+1]) for i in range(len(layers)-1)]) \n",
        "        self.iter = 0\n",
        "        'Xavier Normal Initialization'\n",
        "        # std = gain * sqrt(2/(input_dim+output_dim))\n",
        "        for i in range(len(layers)-1):\n",
        "            # weights from a normal distribution with \n",
        "            # Recommended gain value for tanh = 5/3?\n",
        "            nn.init.xavier_normal_(self.linears[i].weight.data, gain=1.0)\n",
        "            # set biases to zero\n",
        "            nn.init.zeros_(self.linears[i].bias.data)\n",
        "\n",
        "    'foward pass'\n",
        "    def forward(self,x):\n",
        "        if torch.is_tensor(x) != True:         \n",
        "            x = torch.from_numpy(x)                \n",
        "        a = x.float()\n",
        "        for i in range(len(layers)-2):  \n",
        "            z = self.linears[i](a)              \n",
        "            a = self.activation(z)    \n",
        "        a = self.linears[-1](a)\n",
        "        return a\n",
        "\n",
        "    def closure(self):\n",
        "        optimizer.zero_grad()\n",
        "        loss = self.loss(x_train,y_train)\n",
        "        loss.backward() \n",
        "        self.iter += 1\n",
        "        if self.iter % 100 == 0:\n",
        "            print(loss)\n",
        "        return loss\n",
        "\n",
        "    'Loss Functions'\n",
        "    #Loss Initial Condition\n",
        "    def lossIC(self,xtIC,yIC):\n",
        "      lossIC=self.loss_function(self.forward(xtIC),yIC)\n",
        "      return lossIC\n",
        "    \n",
        "    #Loss Boundary Condition\n",
        "    def lossBC(self,xtBC,yBC):\n",
        "      lossBC=self.loss_function(self.forward(xtBC),yBC)\n",
        "      return lossBC\n",
        "\n",
        "    #Loss Differential Equation\n",
        "    def lossDE(self,xtDE,sDE):\n",
        "      g=xtDE.clone()\n",
        "      g.requires_grad=True\n",
        "      f=self.forward(g)\n",
        "      #f_x_t = autograd.grad(f,g,torch.ones([g.shape[0],1]).to(device),retain_graph=True, create_graph=True)[0] #first derivative\n",
        "      f_x_t = autograd.grad(f,g,torch.ones([g.shape[0],1]).to(device),create_graph=True)[0]#second derivative\n",
        "      f_xx_tt = autograd.grad(f_x_t,g,torch.ones(g.shape).to(device),create_graph=True)[0]#second derivative\n",
        "      f_t=f_x_t[:,[1]]# we select the 2nd element for t (the first one is x) (Remember the input X=[x,t]) \n",
        "      f_xx=f_xx_tt[:,[0]]# we select the 1st element for x (the second one is t) (Remember the input X=[x,t]) \n",
        "      fDiv=f_t-f_xx\n",
        "      lossDE=self.loss_function(fDiv,sDE)\n",
        "      return lossDE\n",
        "\n",
        "    def loss(self,xtIC,yIC,xtBC,yBC,xtDE,sDE):\n",
        "      lossIC=self.lossIC(xtIC,yIC)\n",
        "      lossBC=self.lossBC(xtBC,yBC)\n",
        "      lossDE=self.lossDE(xtDE,sDE)\n",
        "      return lossIC+lossBC+lossDE"
      ]
    },
    {
      "cell_type": "markdown",
      "metadata": {
        "id": "UoqCzgLSp61M"
      },
      "source": [
        "## Tunning Parameters"
      ]
    },
    {
      "cell_type": "code",
      "execution_count": 16,
      "metadata": {
        "id": "L2r-CxAnp5Ub"
      },
      "outputs": [],
      "source": [
        "steps=20000\n",
        "lr=1e-3\n",
        "layers = np.array([2,32,32,1]) # hidden layers\n",
        "\n",
        "Nic=100\n",
        "Nbc=100\n",
        "Nde=10000"
      ]
    },
    {
      "cell_type": "markdown",
      "metadata": {},
      "source": [
        "## Generate data"
      ]
    },
    {
      "cell_type": "markdown",
      "metadata": {},
      "source": [
        "定义域"
      ]
    },
    {
      "cell_type": "code",
      "execution_count": 17,
      "metadata": {},
      "outputs": [],
      "source": [
        "x_min = -1.0\n",
        "x_max =  1.0\n",
        "t_min = 0.0\n",
        "t_max = 1.0"
      ]
    },
    {
      "cell_type": "markdown",
      "metadata": {},
      "source": [
        "生成数据集(理论公式)"
      ]
    },
    {
      "cell_type": "code",
      "execution_count": 18,
      "metadata": {},
      "outputs": [],
      "source": [
        "nx = 200\n",
        "xl=torch.linspace(x_min,x_max,nx).view(-1,1)\n",
        "\n",
        "nt = 100\n",
        "tl = torch.linspace(t_min,t_max,nt).view(-1,1)\n",
        "\n",
        "x,t=torch.meshgrid(xl.squeeze(1),tl.squeeze(1))\n",
        "yIC = f_IC(x,t)\n",
        "y0 = f_Analytic(x,t)"
      ]
    },
    {
      "cell_type": "markdown",
      "metadata": {},
      "source": [
        "检查数据集，画x-y图"
      ]
    },
    {
      "cell_type": "code",
      "execution_count": 19,
      "metadata": {},
      "outputs": [
        {
          "data": {
            "text/plain": [
              "<matplotlib.legend.Legend at 0x2118e9c8610>"
            ]
          },
          "execution_count": 19,
          "metadata": {},
          "output_type": "execute_result"
        },
        {
          "data": {
            "image/png": "[encoded data removed]",
            "text/plain": [
              "<Figure size 640x480 with 1 Axes>"
            ]
          },
          "metadata": {},
          "output_type": "display_data"
        }
      ],
      "source": [
        "fig, ax1 = plt.subplots()\n",
        "t0_idx = 0\n",
        "tp_idx = round(2*nt/3)\n",
        "ax1.plot(x[:,t0_idx].detach().numpy(),yIC[:,t0_idx].detach().numpy(),color='blue',label='Initial Condition')\n",
        "ax1.plot(x[:,tp_idx].detach().numpy(),y0[:,tp_idx].detach().numpy(),color='red',label='Analytical Function')\n",
        "ax1.set_xlabel('x',color='black')\n",
        "ax1.set_ylabel('y',color='black')\n",
        "ax1.tick_params(axis='y', color='black')\n",
        "ax1.legend(loc = 'upper left')"
      ]
    },
    {
      "cell_type": "markdown",
      "metadata": {
        "id": "i0j73GoH86-m"
      },
      "source": [
        "## Train Neural Network"
      ]
    },
    {
      "cell_type": "markdown",
      "metadata": {},
      "source": [
        "### 生成训练、测试数据集"
      ]
    },
    {
      "cell_type": "markdown",
      "metadata": {},
      "source": [
        "定义采样函数"
      ]
    },
    {
      "cell_type": "code",
      "execution_count": 20,
      "metadata": {},
      "outputs": [],
      "source": [
        "def IC_random(ran):\n",
        "  x = x_min+ran*(x_max-x_min)\n",
        "  t = t_min\n",
        "  return torch.tensor([x, t])\n",
        "\n",
        "def BC_xL_random(ran):\n",
        "  x = x_min\n",
        "  t = t_min+ran*(t_max-t_min)\n",
        "  return torch.tensor([x, t])\n",
        "\n",
        "def BC_xR_random(ran):\n",
        "  x = x_max\n",
        "  t = t_min+ran*(t_max-t_min)\n",
        "  return torch.tensor([x, t])\n",
        "\n",
        "def DE_random(ran):\n",
        "  x = x_min+ran[0]*(x_max-x_min)\n",
        "  t = t_min+ran[1]*(t_max-t_min)\n",
        "  return torch.tensor([x, t])"
      ]
    },
    {
      "cell_type": "markdown",
      "metadata": {},
      "source": [
        "分别在初始条件、边界、解域上采样点，得到训练集。"
      ]
    },
    {
      "cell_type": "code",
      "execution_count": 21,
      "metadata": {},
      "outputs": [
        {
          "ename": "IndexError",
          "evalue": "index 1 is out of bounds for dimension 1 with size 1",
          "output_type": "error",
          "traceback": [
            "\u001b[1;31m---------------------------------------------------------------------------\u001b[0m",
            "\u001b[1;31mIndexError\u001b[0m                                Traceback (most recent call last)",
            "Cell \u001b[1;32mIn[21], line 9\u001b[0m\n\u001b[0;32m      6\u001b[0m random_numbers_de \u001b[38;5;241m=\u001b[39m torch\u001b[38;5;241m.\u001b[39mrand(Nde,\u001b[38;5;241m2\u001b[39m)\n\u001b[0;32m      8\u001b[0m xtIC \u001b[38;5;241m=\u001b[39m torch\u001b[38;5;241m.\u001b[39mstack([IC_random(ran) \u001b[38;5;28;01mfor\u001b[39;00m ran \u001b[38;5;129;01min\u001b[39;00m random_numbers_IC])\u001b[38;5;241m.\u001b[39munsqueeze(\u001b[38;5;241m1\u001b[39m)\n\u001b[1;32m----> 9\u001b[0m yIC \u001b[38;5;241m=\u001b[39m f_IC(xtIC[:,\u001b[38;5;241m0\u001b[39m],\u001b[43mxtIC\u001b[49m\u001b[43m[\u001b[49m\u001b[43m:\u001b[49m\u001b[43m,\u001b[49m\u001b[38;5;241;43m1\u001b[39;49m\u001b[43m]\u001b[49m)\n\u001b[0;32m     11\u001b[0m xtBC1 \u001b[38;5;241m=\u001b[39m torch\u001b[38;5;241m.\u001b[39mstack([BC_xL_random(ran) \u001b[38;5;28;01mfor\u001b[39;00m ran \u001b[38;5;129;01min\u001b[39;00m random_numbers_BC1])\u001b[38;5;241m.\u001b[39munsqueeze(\u001b[38;5;241m1\u001b[39m)\n\u001b[0;32m     12\u001b[0m xtBC2 \u001b[38;5;241m=\u001b[39m torch\u001b[38;5;241m.\u001b[39mstack([BC_xR_random(ran) \u001b[38;5;28;01mfor\u001b[39;00m ran \u001b[38;5;129;01min\u001b[39;00m random_numbers_BC2])\u001b[38;5;241m.\u001b[39munsqueeze(\u001b[38;5;241m1\u001b[39m)\n",
            "\u001b[1;31mIndexError\u001b[0m: index 1 is out of bounds for dimension 1 with size 1"
          ]
        }
      ],
      "source": [
        "torch.manual_seed(123)\n",
        "\n",
        "random_numbers_IC = torch.rand(Nic)\n",
        "random_numbers_BC1 = torch.rand(Nbc)\n",
        "random_numbers_BC2 = torch.rand(Nbc)\n",
        "random_numbers_de = torch.rand(Nde,2)\n",
        "\n",
        "xtIC = torch.stack([IC_random(ran) for ran in random_numbers_IC]).unsqueeze(1)\n",
        "yIC = f_IC(xtIC[:,0],xtIC[:,1])\n",
        "\n",
        "xtBC1 = torch.stack([BC_xL_random(ran) for ran in random_numbers_BC1]).unsqueeze(1)\n",
        "xtBC2 = torch.stack([BC_xR_random(ran) for ran in random_numbers_BC2]).unsqueeze(1)\n",
        "xtBC = torch.vstack([xtBC1,xtBC2])\n",
        "yBC = f_BC(xtBC[:,0],xtBC[:,1])\n",
        "\n",
        "xtDE = torch.stack([DE_random(ran) for ran in random_numbers_de]).unsqueeze(1)\n",
        "xtDE = torch.vstack((xtIC,xtBC,xtDE))\n",
        "sDE = Source(xtDE[:,0],xtDE[:,1])\n",
        "\n",
        "xtIC=xtIC.float().to(device)\n",
        "xtBC=xtBC.float().to(device)\n",
        "xtDE=xtDE.float().to(device)\n",
        "yIC=yIC.float().to(device)\n",
        "yBC=yBC.float().to(device)\n",
        "sDE=sDE.float().to(device)"
      ]
    },
    {
      "cell_type": "markdown",
      "metadata": {},
      "source": [
        "### 生成神经网络模型"
      ]
    },
    {
      "cell_type": "code",
      "execution_count": null,
      "metadata": {},
      "outputs": [
        {
          "data": {
            "text/plain": [
              "FCN(\n",
              "  (activation): Tanh()\n",
              "  (loss_function): MSELoss()\n",
              "  (linears): ModuleList(\n",
              "    (0): Linear(in_features=2, out_features=32, bias=True)\n",
              "    (1): Linear(in_features=32, out_features=32, bias=True)\n",
              "    (2): Linear(in_features=32, out_features=1, bias=True)\n",
              "  )\n",
              ")"
            ]
          },
          "execution_count": 10,
          "metadata": {},
          "output_type": "execute_result"
        }
      ],
      "source": [
        "PINN = FCN(layers)\n",
        "PINN.to(device)"
      ]
    },
    {
      "cell_type": "markdown",
      "metadata": {},
      "source": [
        "### 选择优化算法"
      ]
    },
    {
      "cell_type": "code",
      "execution_count": null,
      "metadata": {},
      "outputs": [
        {
          "data": {
            "text/plain": [
              "\"\\n'L-BFGS Optimizer'\\noptimizer = torch.optim.LBFGS(PINN.parameters(), lr=lr, \\n                              max_iter = steps, \\n                              max_eval = None, \\n                              tolerance_grad = 1e-05, \\n                              tolerance_change = 1e-09, \\n                              history_size = 100, \\n                              line_search_fn = 'strong_wolfe')\""
            ]
          },
          "execution_count": 11,
          "metadata": {},
          "output_type": "execute_result"
        }
      ],
      "source": [
        "optimizer = torch.optim.Adam(PINN.parameters(),lr=lr,amsgrad=False)\n",
        "\n",
        "'''\n",
        "'L-BFGS Optimizer'\n",
        "optimizer = torch.optim.LBFGS(PINN.parameters(), lr=lr, \n",
        "                              max_iter = steps, \n",
        "                              max_eval = None, \n",
        "                              tolerance_grad = 1e-05, \n",
        "                              tolerance_change = 1e-09, \n",
        "                              history_size = 100, \n",
        "                              line_search_fn = 'strong_wolfe')'''"
      ]
    },
    {
      "cell_type": "markdown",
      "metadata": {},
      "source": [
        "### 核心迭代"
      ]
    },
    {
      "cell_type": "code",
      "execution_count": null,
      "metadata": {},
      "outputs": [
        {
          "name": "stdout",
          "output_type": "stream",
          "text": [
            "Training Loss-----Test Loss\n"
          ]
        },
        {
          "name": "stderr",
          "output_type": "stream",
          "text": [
            "c:\\Users\\Daizongliang\\AppData\\Local\\Programs\\Python\\Python310\\lib\\site-packages\\torch\\nn\\modules\\loss.py:535: UserWarning: Using a target size (torch.Size([100])) that is different to the input size (torch.Size([100, 1])). This will likely lead to incorrect results due to broadcasting. Please ensure they have the same size.\n",
            "  return F.mse_loss(input, target, reduction=self.reduction)\n",
            "c:\\Users\\Daizongliang\\AppData\\Local\\Programs\\Python\\Python310\\lib\\site-packages\\torch\\nn\\modules\\loss.py:535: UserWarning: Using a target size (torch.Size([200])) that is different to the input size (torch.Size([200, 1])). This will likely lead to incorrect results due to broadcasting. Please ensure they have the same size.\n",
            "  return F.mse_loss(input, target, reduction=self.reduction)\n",
            "c:\\Users\\Daizongliang\\AppData\\Local\\Programs\\Python\\Python310\\lib\\site-packages\\torch\\nn\\modules\\loss.py:535: UserWarning: Using a target size (torch.Size([10300])) that is different to the input size (torch.Size([10300, 1])). This will likely lead to incorrect results due to broadcasting. Please ensure they have the same size.\n",
            "  return F.mse_loss(input, target, reduction=self.reduction)\n"
          ]
        },
        {
          "ename": "RuntimeError",
          "evalue": "element 0 of tensors does not require grad and does not have a grad_fn",
          "output_type": "error",
          "traceback": [
            "\u001b[1;31m---------------------------------------------------------------------------\u001b[0m",
            "\u001b[1;31mRuntimeError\u001b[0m                              Traceback (most recent call last)",
            "Cell \u001b[1;32mIn[12], line 11\u001b[0m\n\u001b[0;32m      9\u001b[0m \u001b[38;5;28;01mif\u001b[39;00m i\u001b[38;5;241m%\u001b[39m(steps\u001b[38;5;241m/\u001b[39m\u001b[38;5;241m10\u001b[39m)\u001b[38;5;241m==\u001b[39m\u001b[38;5;241m0\u001b[39m:\n\u001b[0;32m     10\u001b[0m   \u001b[38;5;28;01mwith\u001b[39;00m torch\u001b[38;5;241m.\u001b[39mno_grad():\n\u001b[1;32m---> 11\u001b[0m     test_loss\u001b[38;5;241m=\u001b[39m\u001b[43mPINN\u001b[49m\u001b[38;5;241;43m.\u001b[39;49m\u001b[43mloss\u001b[49m\u001b[43m(\u001b[49m\u001b[43mxtIC\u001b[49m\u001b[43m,\u001b[49m\u001b[43myIC\u001b[49m\u001b[43m,\u001b[49m\u001b[43mxtBC\u001b[49m\u001b[43m,\u001b[49m\u001b[43myBC\u001b[49m\u001b[43m,\u001b[49m\u001b[43mxtDE\u001b[49m\u001b[43m,\u001b[49m\u001b[43msDE\u001b[49m\u001b[43m)\u001b[49m\n\u001b[0;32m     12\u001b[0m   \u001b[38;5;28mprint\u001b[39m(loss\u001b[38;5;241m.\u001b[39mdetach()\u001b[38;5;241m.\u001b[39mcpu()\u001b[38;5;241m.\u001b[39mnumpy(),\u001b[38;5;124m'\u001b[39m\u001b[38;5;124m---\u001b[39m\u001b[38;5;124m'\u001b[39m,test_loss\u001b[38;5;241m.\u001b[39mdetach()\u001b[38;5;241m.\u001b[39mcpu()\u001b[38;5;241m.\u001b[39mnumpy())\n",
            "Cell \u001b[1;32mIn[3], line 70\u001b[0m, in \u001b[0;36mFCN.loss\u001b[1;34m(self, xtIC, yIC, xtBC, yBC, xtDE, sDE)\u001b[0m\n\u001b[0;32m     68\u001b[0m lossIC\u001b[38;5;241m=\u001b[39m\u001b[38;5;28mself\u001b[39m\u001b[38;5;241m.\u001b[39mlossIC(xtIC,yIC)\n\u001b[0;32m     69\u001b[0m lossBC\u001b[38;5;241m=\u001b[39m\u001b[38;5;28mself\u001b[39m\u001b[38;5;241m.\u001b[39mlossBC(xtBC,yBC)\n\u001b[1;32m---> 70\u001b[0m lossDE\u001b[38;5;241m=\u001b[39m\u001b[38;5;28;43mself\u001b[39;49m\u001b[38;5;241;43m.\u001b[39;49m\u001b[43mlossDE\u001b[49m\u001b[43m(\u001b[49m\u001b[43mxtDE\u001b[49m\u001b[43m,\u001b[49m\u001b[43msDE\u001b[49m\u001b[43m)\u001b[49m\n\u001b[0;32m     71\u001b[0m \u001b[38;5;28;01mreturn\u001b[39;00m lossIC\u001b[38;5;241m+\u001b[39mlossBC\u001b[38;5;241m+\u001b[39mlossDE\n",
            "Cell \u001b[1;32mIn[3], line 59\u001b[0m, in \u001b[0;36mFCN.lossDE\u001b[1;34m(self, xtDE, sDE)\u001b[0m\n\u001b[0;32m     57\u001b[0m f\u001b[38;5;241m=\u001b[39m\u001b[38;5;28mself\u001b[39m\u001b[38;5;241m.\u001b[39mforward(g)\n\u001b[0;32m     58\u001b[0m \u001b[38;5;66;03m#f_x_t = autograd.grad(f,g,torch.ones([g.shape[0],1]).to(device),retain_graph=True, create_graph=True)[0] #first derivative\u001b[39;00m\n\u001b[1;32m---> 59\u001b[0m f_x_t \u001b[38;5;241m=\u001b[39m \u001b[43mautograd\u001b[49m\u001b[38;5;241;43m.\u001b[39;49m\u001b[43mgrad\u001b[49m\u001b[43m(\u001b[49m\u001b[43mf\u001b[49m\u001b[43m,\u001b[49m\u001b[43mg\u001b[49m\u001b[43m,\u001b[49m\u001b[43mtorch\u001b[49m\u001b[38;5;241;43m.\u001b[39;49m\u001b[43mones\u001b[49m\u001b[43m(\u001b[49m\u001b[43m[\u001b[49m\u001b[43mg\u001b[49m\u001b[38;5;241;43m.\u001b[39;49m\u001b[43mshape\u001b[49m\u001b[43m[\u001b[49m\u001b[38;5;241;43m0\u001b[39;49m\u001b[43m]\u001b[49m\u001b[43m,\u001b[49m\u001b[38;5;241;43m1\u001b[39;49m\u001b[43m]\u001b[49m\u001b[43m)\u001b[49m\u001b[38;5;241;43m.\u001b[39;49m\u001b[43mto\u001b[49m\u001b[43m(\u001b[49m\u001b[43mdevice\u001b[49m\u001b[43m)\u001b[49m\u001b[43m,\u001b[49m\u001b[43mcreate_graph\u001b[49m\u001b[38;5;241;43m=\u001b[39;49m\u001b[38;5;28;43;01mTrue\u001b[39;49;00m\u001b[43m)\u001b[49m[\u001b[38;5;241m0\u001b[39m]\u001b[38;5;66;03m#second derivative\u001b[39;00m\n\u001b[0;32m     60\u001b[0m f_xx_tt \u001b[38;5;241m=\u001b[39m autograd\u001b[38;5;241m.\u001b[39mgrad(f_x_t,g,torch\u001b[38;5;241m.\u001b[39mones(g\u001b[38;5;241m.\u001b[39mshape)\u001b[38;5;241m.\u001b[39mto(device),create_graph\u001b[38;5;241m=\u001b[39m\u001b[38;5;28;01mTrue\u001b[39;00m)[\u001b[38;5;241m0\u001b[39m]\u001b[38;5;66;03m#second derivative\u001b[39;00m\n\u001b[0;32m     61\u001b[0m f_t\u001b[38;5;241m=\u001b[39mf_x_t[:,[\u001b[38;5;241m1\u001b[39m]]\u001b[38;5;66;03m# we select the 2nd element for t (the first one is x) (Remember the input X=[x,t]) \u001b[39;00m\n",
            "File \u001b[1;32mc:\\Users\\Daizongliang\\AppData\\Local\\Programs\\Python\\Python310\\lib\\site-packages\\torch\\autograd\\__init__.py:411\u001b[0m, in \u001b[0;36mgrad\u001b[1;34m(outputs, inputs, grad_outputs, retain_graph, create_graph, only_inputs, allow_unused, is_grads_batched, materialize_grads)\u001b[0m\n\u001b[0;32m    407\u001b[0m     result \u001b[38;5;241m=\u001b[39m _vmap_internals\u001b[38;5;241m.\u001b[39m_vmap(vjp, \u001b[38;5;241m0\u001b[39m, \u001b[38;5;241m0\u001b[39m, allow_none_pass_through\u001b[38;5;241m=\u001b[39m\u001b[38;5;28;01mTrue\u001b[39;00m)(\n\u001b[0;32m    408\u001b[0m         grad_outputs_\n\u001b[0;32m    409\u001b[0m     )\n\u001b[0;32m    410\u001b[0m \u001b[38;5;28;01melse\u001b[39;00m:\n\u001b[1;32m--> 411\u001b[0m     result \u001b[38;5;241m=\u001b[39m \u001b[43mVariable\u001b[49m\u001b[38;5;241;43m.\u001b[39;49m\u001b[43m_execution_engine\u001b[49m\u001b[38;5;241;43m.\u001b[39;49m\u001b[43mrun_backward\u001b[49m\u001b[43m(\u001b[49m\u001b[43m  \u001b[49m\u001b[38;5;66;43;03m# Calls into the C++ engine to run the backward pass\u001b[39;49;00m\n\u001b[0;32m    412\u001b[0m \u001b[43m        \u001b[49m\u001b[43mt_outputs\u001b[49m\u001b[43m,\u001b[49m\n\u001b[0;32m    413\u001b[0m \u001b[43m        \u001b[49m\u001b[43mgrad_outputs_\u001b[49m\u001b[43m,\u001b[49m\n\u001b[0;32m    414\u001b[0m \u001b[43m        \u001b[49m\u001b[43mretain_graph\u001b[49m\u001b[43m,\u001b[49m\n\u001b[0;32m    415\u001b[0m \u001b[43m        \u001b[49m\u001b[43mcreate_graph\u001b[49m\u001b[43m,\u001b[49m\n\u001b[0;32m    416\u001b[0m \u001b[43m        \u001b[49m\u001b[43minputs\u001b[49m\u001b[43m,\u001b[49m\n\u001b[0;32m    417\u001b[0m \u001b[43m        \u001b[49m\u001b[43mallow_unused\u001b[49m\u001b[43m,\u001b[49m\n\u001b[0;32m    418\u001b[0m \u001b[43m        \u001b[49m\u001b[43maccumulate_grad\u001b[49m\u001b[38;5;241;43m=\u001b[39;49m\u001b[38;5;28;43;01mFalse\u001b[39;49;00m\u001b[43m,\u001b[49m\n\u001b[0;32m    419\u001b[0m \u001b[43m    \u001b[49m\u001b[43m)\u001b[49m  \u001b[38;5;66;03m# Calls into the C++ engine to run the backward pass\u001b[39;00m\n\u001b[0;32m    420\u001b[0m \u001b[38;5;28;01mif\u001b[39;00m materialize_grads:\n\u001b[0;32m    421\u001b[0m     \u001b[38;5;28;01mif\u001b[39;00m \u001b[38;5;28many\u001b[39m(\n\u001b[0;32m    422\u001b[0m         result[i] \u001b[38;5;129;01mis\u001b[39;00m \u001b[38;5;28;01mNone\u001b[39;00m \u001b[38;5;129;01mand\u001b[39;00m \u001b[38;5;129;01mnot\u001b[39;00m is_tensor_like(inputs[i])\n\u001b[0;32m    423\u001b[0m         \u001b[38;5;28;01mfor\u001b[39;00m i \u001b[38;5;129;01min\u001b[39;00m \u001b[38;5;28mrange\u001b[39m(\u001b[38;5;28mlen\u001b[39m(inputs))\n\u001b[0;32m    424\u001b[0m     ):\n",
            "\u001b[1;31mRuntimeError\u001b[0m: element 0 of tensors does not require grad and does not have a grad_fn"
          ]
        }
      ],
      "source": [
        "start_time = time.time()\n",
        "for i in range(steps):\n",
        "    if i==0:\n",
        "      print(\"Training Loss-----Test Loss\")\n",
        "    optimizer.zero_grad()\n",
        "    loss = PINN.loss(xtIC,yIC,xtBC,yBC,xtDE,sDE)\n",
        "    loss.backward()\n",
        "    optimizer.step()\n",
        "    if i%(steps/10)==0:\n",
        "      with torch.no_grad():\n",
        "        test_loss=PINN.loss(xtIC,yIC,xtBC,yBC,xtDE,sDE)\n",
        "      print(loss.detach().cpu().numpy(),'---',test_loss.detach().cpu().numpy())"
      ]
    },
    {
      "cell_type": "markdown",
      "metadata": {},
      "source": [
        "### 输出模型预测结果"
      ]
    },
    {
      "cell_type": "markdown",
      "metadata": {},
      "source": [
        "# Other"
      ]
    },
    {
      "cell_type": "code",
      "execution_count": null,
      "metadata": {
        "id": "F8Y6q7m288zJ"
      },
      "outputs": [],
      "source": [
        "def plot3D(x,t,y):\n",
        "  x_plot =x.squeeze(1) \n",
        "  t_plot =t.squeeze(1)\n",
        "  X,T= torch.meshgrid(x_plot,t_plot)\n",
        "  F_xt = y\n",
        "  fig,ax=plt.subplots(1,1)\n",
        "  cp = ax.contourf(T,X, F_xt,20,cmap=\"rainbow\")\n",
        "  fig.colorbar(cp) # Add a colorbar to a plot\n",
        "  ax.set_title('F(x,t)')\n",
        "  ax.set_xlabel('t')\n",
        "  ax.set_ylabel('x')\n",
        "  plt.show()\n",
        "  ax = plt.axes(projection='3d')\n",
        "  ax.plot_surface(T.numpy(), X.numpy(), F_xt.numpy(),cmap=\"rainbow\")\n",
        "  ax.set_xlabel('t')\n",
        "  ax.set_ylabel('x')\n",
        "  ax.set_zlabel('f(x,t)')\n",
        "  plt.show()"
      ]
    },
    {
      "cell_type": "code",
      "execution_count": null,
      "metadata": {
        "id": "pFS1eS92dhuX"
      },
      "outputs": [],
      "source": [
        "def plot3D_Matrix(x,t,y):\n",
        "  X,T= x,t\n",
        "  F_xt = y\n",
        "  fig,ax=plt.subplots(1,1)\n",
        "  cp = ax.contourf(T,X, F_xt,20,cmap=\"rainbow\")\n",
        "  fig.colorbar(cp) # Add a colorbar to a plot\n",
        "  ax.set_title('F(x,t)')\n",
        "  ax.set_xlabel('t')\n",
        "  ax.set_ylabel('x')\n",
        "  plt.show()\n",
        "  ax = plt.axes(projection='3d')\n",
        "  ax.plot_surface(T.numpy(), X.numpy(), F_xt.numpy(),cmap=\"rainbow\")\n",
        "  ax.set_xlabel('t')\n",
        "  ax.set_ylabel('x')\n",
        "  ax.set_zlabel('f(x,t)')\n",
        "  plt.show()"
      ]
    },
    {
      "cell_type": "markdown",
      "metadata": {
        "id": "K40IpAXPjS4I"
      },
      "source": [
        "## Functions"
      ]
    },
    {
      "cell_type": "code",
      "execution_count": null,
      "metadata": {
        "id": "hZFwvWyGs2RE"
      },
      "outputs": [],
      "source": [
        "def f_real(x,t):\n",
        "  return torch.exp(-t)*(torch.sin(np.pi*x))"
      ]
    },
    {
      "cell_type": "markdown",
      "metadata": {
        "id": "ZHYqtyYJs3Jv"
      },
      "source": [
        "### Neural Network"
      ]
    },
    {
      "cell_type": "code",
      "execution_count": null,
      "metadata": {
        "id": "7EZjlbVMi8w0"
      },
      "outputs": [],
      "source": [
        "class FCN(nn.Module):\n",
        "  #https://github.com/omniscientoctopus/Physics-Informed-Neural-Networks/tree/main/PyTorch/Burgers'%20Equation\n",
        "    ##Neural Network\n",
        "    def __init__(self,layers):\n",
        "        super().__init__() #call __init__ from parent class \n",
        "        'activation function'\n",
        "        self.activation = nn.Tanh()\n",
        "        'loss function'\n",
        "        self.loss_function = nn.MSELoss(reduction ='mean')\n",
        "        'Initialise neural network as a list using nn.Modulelist'  \n",
        "        self.linears = nn.ModuleList([nn.Linear(layers[i], layers[i+1]) for i in range(len(layers)-1)]) \n",
        "        self.iter = 0 #For the Optimizer\n",
        "        'Xavier Normal Initialization'\n",
        "        for i in range(len(layers)-1):\n",
        "            nn.init.xavier_normal_(self.linears[i].weight.data, gain=1.0)\n",
        "            # set biases to zero\n",
        "            nn.init.zeros_(self.linears[i].bias.data)   \n",
        "    'foward pass'\n",
        "    def forward(self,x):\n",
        "        if torch.is_tensor(x) != True:         \n",
        "            x = torch.from_numpy(x)                \n",
        "        a = x.float()\n",
        "        for i in range(len(layers)-2):  \n",
        "            z = self.linears[i](a)              \n",
        "            a = self.activation(z)    \n",
        "        a = self.linears[-1](a)\n",
        "        return a\n",
        "    'Loss Functions'\n",
        "    #Loss BC\n",
        "    def lossBC(self,x_BC,y_BC):\n",
        "      loss_BC=self.loss_function(self.forward(x_BC),y_BC)\n",
        "      return loss_BC\n",
        "    #Loss PDE\n",
        "    def lossPDE(self,x_PDE):\n",
        "      g=x_PDE.clone()\n",
        "      g.requires_grad=True #Enable differentiation\n",
        "      f=self.forward(g)\n",
        "      f_x_t = autograd.grad(f,g,torch.ones([g.shape[0], 1]).to(device), retain_graph=True, create_graph=True)[0] #first derivative\n",
        "      f_xx_tt = autograd.grad(f_x_t,g,torch.ones(g.shape).to(device), create_graph=True)[0]#second derivative\n",
        "      f_t=f_x_t[:,[1]]# we select the 2nd element for t (the first one is x) (Remember the input X=[x,t]) \n",
        "      f_xx=f_xx_tt[:,[0]]# we select the 1st element for x (the second one is t) (Remember the input X=[x,t]) \n",
        "      f=f_t-f_xx+ torch.exp(-g[:, 1:])* (torch.sin(np.pi * g[:, 0:1]) - np.pi ** 2 * torch.sin(np.pi * g[:, 0:1]))\n",
        "      return self.loss_function(f,f_hat)\n",
        "\n",
        "    def loss(self,x_BC,y_BC,x_PDE):\n",
        "      loss_bc=self.lossBC(x_BC,y_BC)\n",
        "      loss_pde=self.lossPDE(x_PDE)\n",
        "      return loss_bc+loss_pde\n",
        "\n",
        "    #Optimizer              X_train_Nu,Y_train_Nu,X_train_Nf                   \n",
        "    def closure(self):\n",
        "      optimizer.zero_grad()  \n",
        "      loss = self.loss(X_train_Nu,Y_train_Nu,X_train_Nf)\n",
        "      loss.backward()      \n",
        "      self.iter += 1\n",
        "      if self.iter % 100 == 0:\n",
        "        loss2=self.lossBC(X_test,Y_test)\n",
        "        print(\"Training Error:\",loss.detach().cpu().numpy(),\"---Testing Error:\",loss2.detach().cpu().numpy())\n",
        "      return loss   "
      ]
    },
    {
      "cell_type": "markdown",
      "metadata": {
        "id": "pOe9yRvxjakj"
      },
      "source": [
        "# Generate data"
      ]
    },
    {
      "cell_type": "code",
      "execution_count": null,
      "metadata": {
        "colab": {
          "base_uri": "https://localhost:8080/"
        },
        "id": "go0WGbdx7bXB",
        "outputId": "a4a63e95-4e99-42ee-9ced-2204e00f9319"
      },
      "outputs": [],
      "source": [
        "x=torch.linspace(x_min,x_max,total_points_x).view(-1,1)\n",
        "t=torch.linspace(t_min,t_max,total_points_t).view(-1,1)\n",
        "# Create the mesh \n",
        "X,T=torch.meshgrid(x.squeeze(1),t.squeeze(1))\n",
        "# Evaluate real function\n",
        "y_real=f_real(X,T)\n",
        "plot3D(x,t,y_real) #f_real was defined previously(function)"
      ]
    },
    {
      "cell_type": "code",
      "execution_count": null,
      "metadata": {
        "colab": {
          "base_uri": "https://localhost:8080/"
        },
        "id": "gRKvROqlK8_i",
        "outputId": "de936f0e-0a40-4b51-9304-2343c5b72187"
      },
      "outputs": [],
      "source": [
        "print(x.shape,t.shape,y_real.shape)\n",
        "print(X.shape,T.shape)"
      ]
    },
    {
      "cell_type": "markdown",
      "metadata": {
        "id": "U66GsxSutJcB"
      },
      "source": [
        "## Prepare Data"
      ]
    },
    {
      "cell_type": "code",
      "execution_count": null,
      "metadata": {
        "colab": {
          "base_uri": "https://localhost:8080/"
        },
        "id": "1ZN_Jc-gtR-q",
        "outputId": "4fa42c10-dbf0-4880-9bd2-27e8efce30e4"
      },
      "outputs": [],
      "source": [
        "# Transform the mesh into a 2-column vector\n",
        "x_test=torch.hstack((X.transpose(1,0).flatten()[:,None],T.transpose(1,0).flatten()[:,None]))\n",
        "y_test=y_real.transpose(1,0).flatten()[:,None] # Colum major Flatten (so we transpose it)\n",
        "# Domain bounds\n",
        "lb=x_test[0] #first value\n",
        "ub=x_test[-1] #last value \n",
        "print(x_test.shape,y_test.shape)\n",
        "print(lb,ub)"
      ]
    },
    {
      "cell_type": "markdown",
      "metadata": {
        "id": "dQxdtgBtsqJj"
      },
      "source": [
        "## Training Data"
      ]
    },
    {
      "cell_type": "code",
      "execution_count": null,
      "metadata": {
        "id": "KjFW76MDzRXP"
      },
      "outputs": [],
      "source": [
        "#Initial Condition\n",
        "#Left Edge: x(x,0)=sin(x)->xmin=<x=<xmax; t=0\n",
        "left_X=torch.hstack((X[:,0][:,None],T[:,0][:,None])) # First column # The [:,None] is to give it the right dimension\n",
        "left_Y=torch.sin(np.pi*left_X[:,0]).unsqueeze(1)\n",
        "#Boundary Conditions\n",
        "#Bottom Edge: x=min; tmin=<t=<max\n",
        "bottom_X=torch.hstack((X[0,:][:,None],T[0,:][:,None])) # First row # The [:,None] is to give it the right dimension\n",
        "bottom_Y=torch.zeros(bottom_X.shape[0],1)\n",
        "#Top Edge: x=max; 0=<t=<1\n",
        "top_X=torch.hstack((X[-1,:][:,None],T[-1,:][:,None])) # Last row # The [:,None] is to give it the right dimension\n",
        "top_Y=torch.zeros(top_X.shape[0],1)\n",
        "#Get all the training data into the same dataset\n",
        "X_train=torch.vstack([left_X,bottom_X,top_X])\n",
        "Y_train=torch.vstack([left_Y,bottom_Y,top_Y])\n",
        "#Choose(Nu) points of our available training data:\n",
        "idx=np.random.choice(X_train.shape[0],Nu,replace=False)\n",
        "X_train_Nu=X_train[idx,:]\n",
        "Y_train_Nu=Y_train[idx,:]\n",
        "# Collocation Points (Evaluate our PDe)\n",
        "#Choose(Nf) points(Latin hypercube)\n",
        "X_train_Nf=lb+(ub-lb)*lhs(2,Nf) # 2 as the inputs are x and t\n",
        "X_train_Nf=torch.vstack((X_train_Nf,X_train_Nu)) #Add the training poinst to the collocation points"
      ]
    },
    {
      "cell_type": "code",
      "execution_count": null,
      "metadata": {
        "colab": {
          "base_uri": "https://localhost:8080/"
        },
        "id": "ySJY_09LzRXz",
        "outputId": "92791612-a725-465c-b09b-341468825791"
      },
      "outputs": [],
      "source": [
        "print(\"Original shapes for X and Y:\",X.shape,y_real.shape)\n",
        "print(\"Boundary shapes for the edges:\",left_X.shape,bottom_X.shape,top_X.shape)\n",
        "print(\"Available training data:\",X_train.shape,Y_train.shape)\n",
        "print(\"Final training data:\",X_train_Nu.shape,Y_train_Nu.shape)\n",
        "print(\"Total collocation points:\",X_train_Nf.shape)"
      ]
    },
    {
      "cell_type": "markdown",
      "metadata": {
        "id": "I82eH55ElVSq"
      },
      "source": [
        "# Train Neural Network"
      ]
    },
    {
      "cell_type": "code",
      "execution_count": null,
      "metadata": {
        "colab": {
          "base_uri": "https://localhost:8080/"
        },
        "id": "8KZvgKcalOVV",
        "outputId": "e2e20425-51d1-475f-d44d-4a41ab0f1ef2"
      },
      "outputs": [],
      "source": [
        "torch.manual_seed(123)\n",
        "#Store tensors to GPU\n",
        "X_train_Nu=X_train_Nu.float().to(device)#Training Points (BC)\n",
        "Y_train_Nu=Y_train_Nu.float().to(device)#Training Points (BC)\n",
        "X_train_Nf=X_train_Nf.float().to(device)#Collocation Points\n",
        "f_hat = torch.zeros(X_train_Nf.shape[0],1).to(device)#to minimize function\n",
        "\n",
        "X_test=x_test.float().to(device) # the input dataset (complete)\n",
        "Y_test=y_test.float().to(device) # the real solution \n",
        "\n",
        "\n",
        "#Create Model\n",
        "PINN = FCN(layers)\n",
        "PINN.to(device)\n",
        "print(PINN)\n",
        "params = list(PINN.parameters())\n",
        "optimizer = torch.optim.Adam(PINN.parameters(),lr=lr,amsgrad=False)\n",
        "'''\n",
        "'L-BFGS Optimizer'\n",
        "optimizer = torch.optim.LBFGS(PINN.parameters(), lr=lr, \n",
        "                              max_iter = steps, \n",
        "                              max_eval = None, \n",
        "                              tolerance_grad = 1e-05, \n",
        "                              tolerance_change = 1e-09, \n",
        "                              history_size = 100, \n",
        "                              line_search_fn = 'strong_wolfe')'''\n",
        "start_time = time.time()\n"
      ]
    },
    {
      "cell_type": "code",
      "execution_count": null,
      "metadata": {
        "id": "ZZoV9cCfiOOd"
      },
      "outputs": [],
      "source": [
        "#optimizer.step(PINN.closure)"
      ]
    },
    {
      "cell_type": "code",
      "execution_count": null,
      "metadata": {
        "colab": {
          "base_uri": "https://localhost:8080/"
        },
        "id": "KM3GHnh9ljCh",
        "outputId": "c9441a83-f3c9-4f3d-ed1d-cf39b7bab58f"
      },
      "outputs": [],
      "source": [
        "for i in range(steps):\n",
        "    if i==0:\n",
        "      print(\"Training Loss-----Test Loss\")\n",
        "    loss = PINN.loss(X_train_Nu,Y_train_Nu,X_train_Nf)# use mean squared error\n",
        "    optimizer.zero_grad()\n",
        "    loss.backward()\n",
        "    optimizer.step()\n",
        "    if i%(steps/10)==0:\n",
        "      with torch.no_grad():\n",
        "        test_loss=PINN.lossBC(X_test,Y_test)\n",
        "      print(loss.detach().cpu().numpy(),'---',test_loss.detach().cpu().numpy())"
      ]
    },
    {
      "cell_type": "markdown",
      "metadata": {
        "id": "kpRh89zM8Te8"
      },
      "source": [
        "### Plots"
      ]
    },
    {
      "cell_type": "code",
      "execution_count": null,
      "metadata": {
        "id": "iezJgPG0UAto"
      },
      "outputs": [],
      "source": [
        "y1=PINN(X_test)"
      ]
    },
    {
      "cell_type": "code",
      "execution_count": null,
      "metadata": {
        "id": "otgA5_xXqb4S"
      },
      "outputs": [],
      "source": [
        "x1=X_test[:,0]\n",
        "t1=X_test[:,1]"
      ]
    },
    {
      "cell_type": "code",
      "execution_count": null,
      "metadata": {
        "id": "90-ygJjca2c_"
      },
      "outputs": [],
      "source": [
        "arr_x1=x1.reshape(shape=[100,200]).transpose(1,0).detach().cpu()\n",
        "arr_T1=t1.reshape(shape=[100,200]).transpose(1,0).detach().cpu()\n",
        "arr_y1=y1.reshape(shape=[100,200]).transpose(1,0).detach().cpu()\n",
        "arr_y_test=y_test.reshape(shape=[100,200]).transpose(1,0).detach().cpu()"
      ]
    },
    {
      "cell_type": "code",
      "execution_count": null,
      "metadata": {
        "colab": {
          "base_uri": "https://localhost:8080/",
          "height": 526
        },
        "id": "ituXQapsciqE",
        "outputId": "982cffba-812a-4fc4-baf7-42ef29c3f339"
      },
      "outputs": [],
      "source": [
        "plot3D_Matrix(arr_x1,arr_T1,arr_y1)"
      ]
    },
    {
      "cell_type": "code",
      "execution_count": null,
      "metadata": {
        "colab": {
          "base_uri": "https://localhost:8080/",
          "height": 526
        },
        "id": "xarXcLDdeF7X",
        "outputId": "cb845f12-3d53-401f-d237-f963cf9b93ea"
      },
      "outputs": [],
      "source": [
        "plot3D_Matrix(X,T,y_real)"
      ]
    },
    {
      "cell_type": "markdown",
      "metadata": {
        "id": "K_21EpoD1fZi"
      },
      "source": [
        "## References:\n"
      ]
    },
    {
      "cell_type": "markdown",
      "metadata": {
        "id": "SUFzJJ23ZR2O"
      },
      "source": [
        "[1] Raissi, M., Perdikaris, P., & Karniadakis, G. E. (2017). Physics informed deep learning (part i): Data-driven solutions of nonlinear partial differential equations. arXiv preprint arXiv:1711.10561. http://arxiv.org/pdf/1711.10561v1\n",
        "\n",
        "[2] Lu, L., Meng, X., Mao, Z., & Karniadakis, G. E. (1907). DeepXDE: A deep learning library for solving differential equations,(2019). URL http://arxiv. org/abs/1907.04502. https://arxiv.org/abs/1907.04502\n",
        "\n",
        "[3] Rackauckas Chris, Introduction to Scientific Machine Learning through Physics-Informed Neural Networks. https://book.sciml.ai/notes/03/\n",
        "\n",
        "[4] Repository: Physics-Informed-Neural-Networks (PINNs).https://github.com/omniscientoctopus/Physics-Informed-Neural-Networks/tree/main/PyTorch/Burgers'%20Equation\n"
      ]
    }
  ],
  "metadata": {
    "accelerator": "GPU",
    "colab": {
      "collapsed_sections": [
        "Y61YA90-WIZ1",
        "UoqCzgLSp61M",
        "i0j73GoH86-m",
        "pOe9yRvxjakj"
      ],
      "include_colab_link": true,
      "machine_shape": "hm",
      "name": "4.DiffusionEquation.ipynb",
      "provenance": []
    },
    "kernelspec": {
      "display_name": "Python 3",
      "name": "python3"
    },
    "language_info": {
      "codemirror_mode": {
        "name": "ipython",
        "version": 3
      },
      "file_extension": ".py",
      "mimetype": "text/x-python",
      "name": "python",
      "nbconvert_exporter": "python",
      "pygments_lexer": "ipython3",
      "version": "3.10.4"
    }
  },
  "nbformat": 4,
  "nbformat_minor": 0
}
