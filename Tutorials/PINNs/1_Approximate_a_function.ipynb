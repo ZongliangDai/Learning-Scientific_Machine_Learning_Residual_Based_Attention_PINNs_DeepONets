{
  "cells": [
    {
      "cell_type": "markdown",
      "metadata": {
        "colab_type": "text",
        "id": "view-in-github"
      },
      "source": [
        "<a href=\"https://colab.research.google.com/github/jdtoscano94/Learning-PINNs-in-Pytorch/blob/main/1_Approximate_a_function.ipynb\" target=\"_parent\"><img src=\"https://colab.research.google.com/assets/colab-badge.svg\" alt=\"Open In Colab\"/></a>"
      ]
    },
    {
      "cell_type": "markdown",
      "metadata": {},
      "source": [
        "# Problem : **Function Approximation**"
      ]
    },
    {
      "cell_type": "markdown",
      "metadata": {},
      "source": [
        "## Target Function"
      ]
    },
    {
      "cell_type": "markdown",
      "metadata": {},
      "source": [
        "$$f(x)=sin(x)$$"
      ]
    },
    {
      "cell_type": "markdown",
      "metadata": {
        "id": "Y61YA90-WIZ1"
      },
      "source": [
        "## **Import** *Libraries*"
      ]
    },
    {
      "cell_type": "code",
      "execution_count": 170,
      "metadata": {
        "colab": {
          "base_uri": "https://localhost:8080/"
        },
        "id": "WZrPCr9GWEAJ",
        "outputId": "dc7953c2-0fbd-4622-b789-55b20e682e97"
      },
      "outputs": [
        {
          "name": "stdout",
          "output_type": "stream",
          "text": [
            "Requirement already satisfied: pyDOE in c:\\users\\73463\\appdata\\local\\programs\\python\\python310\\lib\\site-packages (0.3.8)\n",
            "Requirement already satisfied: numpy in c:\\users\\73463\\appdata\\local\\programs\\python\\python310\\lib\\site-packages (from pyDOE) (1.26.4)\n",
            "Requirement already satisfied: scipy in c:\\users\\73463\\appdata\\local\\programs\\python\\python310\\lib\\site-packages (from pyDOE) (1.12.0)\n"
          ]
        }
      ],
      "source": [
        " ! pip install pyDOE"
      ]
    },
    {
      "cell_type": "code",
      "execution_count": 171,
      "metadata": {
        "colab": {
          "base_uri": "https://localhost:8080/"
        },
        "id": "OdYMzuSDi7Js",
        "outputId": "ca95dc62-bd0f-4e6f-bc8a-ecb0daed2226"
      },
      "outputs": [
        {
          "name": "stdout",
          "output_type": "stream",
          "text": [
            "cpu\n"
          ]
        }
      ],
      "source": [
        "import torch\n",
        "import torch.autograd as autograd         # computation graph\n",
        "from torch import Tensor                  # tensor node in the computation graph\n",
        "import torch.nn as nn                     # neural networks\n",
        "import torch.optim as optim               # optimizers e.g. gradient descent, ADAM, etc.\n",
        "\n",
        "import matplotlib.pyplot as plt\n",
        "import matplotlib.gridspec as gridspec\n",
        "from mpl_toolkits.axes_grid1 import make_axes_locatable\n",
        "from mpl_toolkits.mplot3d import Axes3D\n",
        "import matplotlib.ticker\n",
        "from sklearn.model_selection import train_test_split\n",
        "\n",
        "import numpy as np\n",
        "import time\n",
        "from pyDOE import lhs         #Latin Hypercube Sampling\n",
        "import scipy.io\n",
        "\n",
        "#Set default dtype to float32\n",
        "torch.set_default_dtype(torch.float)\n",
        "\n",
        "#PyTorch random number generator\n",
        "torch.manual_seed(1234)\n",
        "\n",
        "# Random number generators in other libraries\n",
        "np.random.seed(1234)\n",
        "\n",
        "# Device configuration\n",
        "device = torch.device('cuda' if torch.cuda.is_available() else 'cpu')\n",
        "\n",
        "print(device)\n",
        "\n",
        "if device == 'cuda': \n",
        "    print(torch.cuda.get_device_name()) \n"
      ]
    },
    {
      "cell_type": "markdown",
      "metadata": {},
      "source": [
        "## **DEF** *Function*\n"
      ]
    },
    {
      "cell_type": "code",
      "execution_count": 172,
      "metadata": {},
      "outputs": [],
      "source": [
        "def f(x):\n",
        "    return torch.sin(x)"
      ]
    },
    {
      "cell_type": "markdown",
      "metadata": {},
      "source": [
        "## **DEF** *Neural Network*"
      ]
    },
    {
      "cell_type": "code",
      "execution_count": 173,
      "metadata": {},
      "outputs": [],
      "source": [
        "#引号中的内容：提供给非程序员或者上下文环境理解的大致解释。\n",
        "#注释部分：为实际编写和阅读代码的人提供的具体技术说明。\n",
        "\n",
        "class FCN(nn.Module):\n",
        "\n",
        "    'Neural Network'\n",
        "    def __init__(self,layers):\n",
        "        super().__init__() #call __init__ from parent class \n",
        "        'activation function'\n",
        "        self.activation = nn.Tanh()\n",
        "        'loss function'\n",
        "        self.loss_function = nn.MSELoss(reduction ='mean')\n",
        "        'Initialise neural network as a list using nn.Modulelist'  \n",
        "        self.linears = nn.ModuleList([nn.Linear(layers[i], layers[i+1]) for i in range(len(layers)-1)])\n",
        "        self.iter = 0\n",
        "        'Xavier Normal Initialization'\n",
        "        # std = gain * sqrt(2/(input_dim+output_dim))\n",
        "        for i in range(len(layers)-1):\n",
        "            # weights from a normal distribution with \n",
        "            # Recommended gain value for tanh = 5/3?\n",
        "            nn.init.xavier_normal_(self.linears[i].weight.data, gain=1.0)\n",
        "            # set biases to zero\n",
        "            nn.init.zeros_(self.linears[i].bias.data)\n",
        "\n",
        "    'foward pass'\n",
        "    def forward(self,x):\n",
        "        if torch.is_tensor(x) != True:         \n",
        "            x = torch.from_numpy(x)                \n",
        "        a = x.float()\n",
        "        for i in range(len(layers)-2):\n",
        "            z = self.linears[i](a)\n",
        "            a = self.activation(z)\n",
        "        a = self.linears[-1](a)\n",
        "        return a\n",
        "\n",
        "    def closure(self):\n",
        "        optimizer.zero_grad()\n",
        "        loss = self.loss(x_train, y_train)\n",
        "        loss.backward()\n",
        "        self.iter += 1\n",
        "        if self.iter % 100 == 0:\n",
        "            print(loss)\n",
        "        return loss\n",
        "\n",
        "    'Loss Functions'\n",
        "    def loss(self,x,y):\n",
        "      loss_val=self.loss_function(self.forward(x),y)\n",
        "      return loss_val"
      ]
    },
    {
      "cell_type": "markdown",
      "metadata": {
        "id": "9zDgeIFblwMX"
      },
      "source": [
        "## **DEF** *Tunning Parameters*"
      ]
    },
    {
      "cell_type": "code",
      "execution_count": 174,
      "metadata": {
        "id": "CMiA3ozQlyav"
      },
      "outputs": [],
      "source": [
        "steps=20000\n",
        "lr=1e-3\n",
        "layers = np.array([1,50,50,20,50,50,1]) #5 hidden layers\n",
        "#这个函数的功能是创建一个包含5个隐藏层的神经网络。每个隐藏层的神经元数量由layers数组指定。例如，layers数组的第一个元素1表示输入层的神经元数量为1，layers数组的第二个元素50表示第二个隐藏层的神经元数量为50。"
      ]
    },
    {
      "cell_type": "markdown",
      "metadata": {
        "id": "pOe9yRvxjakj"
      },
      "source": [
        "## Generate data"
      ]
    },
    {
      "cell_type": "markdown",
      "metadata": {},
      "source": [
        "生成数据集(理论公式)"
      ]
    },
    {
      "cell_type": "code",
      "execution_count": 175,
      "metadata": {
        "colab": {
          "base_uri": "https://localhost:8080/"
        },
        "id": "Z1V03CRRjRML",
        "outputId": "6368203b-aaf0-407d-f6ac-ec391a3bf180"
      },
      "outputs": [],
      "source": [
        "# get the analytical solution over the full domain\n",
        "min=0\n",
        "max=2*np.pi\n",
        "total_points=500\n",
        "\n",
        "x = torch.linspace(min,max,total_points).view(-1,1) #prepare to NN\n",
        "y = f(x)"
      ]
    },
    {
      "cell_type": "markdown",
      "metadata": {},
      "source": [
        "检查数据集，画x-y图"
      ]
    },
    {
      "cell_type": "code",
      "execution_count": 176,
      "metadata": {
        "colab": {
          "base_uri": "https://localhost:8080/",
          "height": 296
        },
        "id": "OE4RUZ27p0fT",
        "outputId": "c967427e-9798-4c88-b936-6f247722e526"
      },
      "outputs": [
        {
          "data": {
            "text/plain": [
              "<matplotlib.legend.Legend at 0x1df26b3c370>"
            ]
          },
          "execution_count": 176,
          "metadata": {},
          "output_type": "execute_result"
        },
        {
          "data": {
            "image/png": "[encoded data removed]",
            "text/plain": [
              "<Figure size 640x480 with 1 Axes>"
            ]
          },
          "metadata": {},
          "output_type": "display_data"
        }
      ],
      "source": [
        "fig, ax1 = plt.subplots()\n",
        "ax1.plot(x.detach().numpy(),y.detach().numpy(),color='blue',label='Real_Train')\n",
        "ax1.set_xlabel('x',color='black')\n",
        "ax1.set_ylabel('f(x)',color='black')\n",
        "ax1.tick_params(axis='y', color='black')\n",
        "ax1.legend(loc = 'upper left')"
      ]
    },
    {
      "cell_type": "markdown",
      "metadata": {
        "id": "I82eH55ElVSq"
      },
      "source": [
        "## Train Neural Network"
      ]
    },
    {
      "cell_type": "markdown",
      "metadata": {},
      "source": [
        "### 生成训练、测试数据集"
      ]
    },
    {
      "cell_type": "code",
      "execution_count": 177,
      "metadata": {},
      "outputs": [],
      "source": [
        "indices=np.arange(nx)\n",
        "#np.arange(nx)在NumPy库中的含义是生成一个[0,nx-1]的整数数组，该数组用于生成数据集\n",
        "\n",
        "train_idx,test_idx,_,_ = train_test_split(indices, indices, test_size=0.2, random_state=42)\n",
        "#该函数用于将给定的indices数据集按照指定的test_size比例划分为训练集和测试集。其中，train_test_split函数是sklearn库中的一个函数，用于将数据集划分为训练集和测试集。该函数的参数包括indices（数据集）、test_size（测试集比例）、random_state（随机种子）等。该函数返回四个值，分别是训练集序号、测试集序号以及其他。\n",
        "\n",
        "x_train=x[train_idx]\n",
        "y_train=y[train_idx]\n",
        "x_test=x[test_idx]\n",
        "y_test=y[test_idx]\n",
        "\n",
        "x_train=x_train.float().to(device)\n",
        "y_train=y_train.float().to(device)\n",
        "#将输入的x_train和y_train转换为float类型，并移动到指定的设备上。"
      ]
    },
    {
      "cell_type": "markdown",
      "metadata": {},
      "source": [
        "### 生成神经网络模型"
      ]
    },
    {
      "cell_type": "code",
      "execution_count": 178,
      "metadata": {
        "colab": {
          "base_uri": "https://localhost:8080/"
        },
        "id": "8KZvgKcalOVV",
        "outputId": "9fc6a06e-c367-45a9-b559-7e4fd963ed3c"
      },
      "outputs": [
        {
          "name": "stdout",
          "output_type": "stream",
          "text": [
            "FCN(\n",
            "  (activation): Tanh()\n",
            "  (loss_function): MSELoss()\n",
            "  (linears): ModuleList(\n",
            "    (0): Linear(in_features=1, out_features=50, bias=True)\n",
            "    (1): Linear(in_features=50, out_features=50, bias=True)\n",
            "    (2): Linear(in_features=50, out_features=20, bias=True)\n",
            "    (3): Linear(in_features=20, out_features=50, bias=True)\n",
            "    (4): Linear(in_features=50, out_features=50, bias=True)\n",
            "    (5): Linear(in_features=50, out_features=1, bias=True)\n",
            "  )\n",
            ")\n"
          ]
        }
      ],
      "source": [
        "model = FCN(layers)\n",
        "#该函数用于创建一个FCN（全卷积网络）模型，其中layers是一个包含多个卷积层的列表。FCN是一种用于图像分割的深度学习模型，它通过将卷积层与上采样层结合来实现对输入图像的像素级别的分类。该函数返回一个FCN模型对象，可以用于训练和预测。\n",
        "\n",
        "model.to(device)\n",
        "print(model)"
      ]
    },
    {
      "cell_type": "markdown",
      "metadata": {},
      "source": [
        "### 选择优化算法"
      ]
    },
    {
      "cell_type": "code",
      "execution_count": 179,
      "metadata": {},
      "outputs": [],
      "source": [
        "optimizer = torch.optim.Adam(model.parameters(),lr=lr,amsgrad=False)\n",
        "#该函数用于创建一个Adam优化器对象，用于更新模型的参数。参数包括模型的参数、学习率和是否使用AMSGrad算法。Adam优化器是一种基于梯度下降的优化算法，可以用于训练深度学习模型。"
      ]
    },
    {
      "cell_type": "markdown",
      "metadata": {},
      "source": [
        "### 核心迭代"
      ]
    },
    {
      "cell_type": "code",
      "execution_count": 180,
      "metadata": {
        "colab": {
          "base_uri": "https://localhost:8080/"
        },
        "id": "KM3GHnh9ljCh",
        "outputId": "aedf7e9b-d61e-4fa0-89de-4c1fdaba472c"
      },
      "outputs": [
        {
          "name": "stdout",
          "output_type": "stream",
          "text": [
            "tensor(0.8214, grad_fn=<MseLossBackward0>)\n",
            "tensor(2.3686e-05, grad_fn=<MseLossBackward0>)\n",
            "tensor(9.1647e-06, grad_fn=<MseLossBackward0>)\n",
            "tensor(2.8686e-05, grad_fn=<MseLossBackward0>)\n",
            "tensor(3.2467e-06, grad_fn=<MseLossBackward0>)\n",
            "tensor(2.7968e-06, grad_fn=<MseLossBackward0>)\n",
            "tensor(4.2584e-06, grad_fn=<MseLossBackward0>)\n",
            "tensor(0.0001, grad_fn=<MseLossBackward0>)\n",
            "tensor(0.0004, grad_fn=<MseLossBackward0>)\n",
            "tensor(6.3597e-05, grad_fn=<MseLossBackward0>)\n"
          ]
        }
      ],
      "source": [
        "torch.manual_seed(123)\n",
        "#产生一个随机数\n",
        "start_time = time.time()\n",
        "\n",
        "for i in range(steps):\n",
        "    optimizer.zero_grad()\n",
        "    #该函数用于清除优化器中的梯度信息，在前向传播时重新计算梯度。\n",
        "\n",
        "    yh = model(x_train)\n",
        "    # model(x)表示神经网络给出的映射的拟合\n",
        "    # model(x) 可以与 f(x)直接比较\n",
        "    # yh表示该模型给出的映射\n",
        "\n",
        "    loss = model.loss(x_train,y_train)\n",
        "    # use mean squared error\n",
        "\n",
        "    loss.backward()\n",
        "    # loss.backward()是PyTorch中一个函数，它用于计算损失函数相对于模型参数的梯度。\n",
        "    # 在深度学习训练循环的反向传播阶段通常会用到此函数。该梯度通过链式法则计算，并存储在每个模型参数的.grad属性中。\n",
        "\n",
        "    optimizer.step()\n",
        "    # optimizer优化器改进参数，在训练过程中更新模型的参数。\n",
        "\n",
        "    if i%(steps/10)==0:\n",
        "      print(loss)"
      ]
    },
    {
      "cell_type": "markdown",
      "metadata": {},
      "source": [
        "输出测试loss"
      ]
    },
    {
      "cell_type": "code",
      "execution_count": 181,
      "metadata": {
        "colab": {
          "base_uri": "https://localhost:8080/"
        },
        "id": "PyYT4VetZouZ",
        "outputId": "0b64137f-a69a-4b4d-a824-d385312e0f33"
      },
      "outputs": [
        {
          "name": "stdout",
          "output_type": "stream",
          "text": [
            "tensor(8.4081e-07, grad_fn=<MseLossBackward0>)\n"
          ]
        }
      ],
      "source": [
        "print(model.loss(x_test.float().to(device),y_test.float().to(device)))\n",
        "#这个函数的功能是计算模型在测试集上的损失值。具体来说，它将测试集的特征x_test和标签y_test转换为浮点数，并将其移动到指定的设备上。然后，它使用模型model来计算损失值，并将结果打印出来。"
      ]
    },
    {
      "cell_type": "markdown",
      "metadata": {},
      "source": [
        "### 输出模型预测结果"
      ]
    },
    {
      "cell_type": "markdown",
      "metadata": {},
      "source": [
        "生成输出网格"
      ]
    },
    {
      "cell_type": "code",
      "execution_count": 182,
      "metadata": {
        "id": "6kJ3gQ6WYhp9"
      },
      "outputs": [],
      "source": [
        "min=0\n",
        "max=2*np.pi\n",
        "total_points=371\n",
        "\n",
        "xP = torch.linspace(min,max,total_points).view(-1,1)"
      ]
    },
    {
      "cell_type": "markdown",
      "metadata": {},
      "source": [
        "画出测试集的函数图x-model(x)和x-f(x)"
      ]
    },
    {
      "cell_type": "code",
      "execution_count": 183,
      "metadata": {
        "colab": {
          "base_uri": "https://localhost:8080/",
          "height": 296
        },
        "id": "M9YZDGcpodnQ",
        "outputId": "3de051d1-d488-4b4c-947a-510208eeea91"
      },
      "outputs": [
        {
          "data": {
            "text/plain": [
              "<matplotlib.legend.Legend at 0x1df26bf80a0>"
            ]
          },
          "execution_count": 183,
          "metadata": {},
          "output_type": "execute_result"
        },
        {
          "data": {
            "image/png": "[encoded data removed]",
            "text/plain": [
              "<Figure size 640x480 with 1 Axes>"
            ]
          },
          "metadata": {},
          "output_type": "display_data"
        }
      ],
      "source": [
        "fig, ax1 = plt.subplots()\n",
        "ax1.plot(xP.detach().cpu().numpy(),f(xP).detach().cpu().numpy(),color='blue',label='Real_Train')\n",
        "ax1.plot(xP.detach().cpu().numpy(),model(xP).detach().cpu().numpy(),color='red',label='Pred_Train')\n",
        "#ax1.plot(x_test_plot.detach().numpy(),y_test_plot.detach().numpy(),color='green',label='Real_Test')\n",
        "#ax1.plot(x_test_plot.detach().numpy(),yh_test_plot.detach().numpy(),color='orange',label='Pred_Test')\n",
        "ax1.set_xlabel('x',color='black')\n",
        "ax1.set_ylabel('f(x)',color='black')\n",
        "ax1.tick_params(axis='y', color='black')\n",
        "ax1.legend(loc = 'upper left')"
      ]
    },
    {
      "cell_type": "markdown",
      "metadata": {},
      "source": [
        "画出误差函数图x-[f(x)-model(x)]"
      ]
    },
    {
      "cell_type": "code",
      "execution_count": 184,
      "metadata": {},
      "outputs": [
        {
          "data": {
            "text/plain": [
              "<matplotlib.legend.Legend at 0x1df26bac940>"
            ]
          },
          "execution_count": 184,
          "metadata": {},
          "output_type": "execute_result"
        },
        {
          "data": {
            "image/png": "[encoded data removed]",
            "text/plain": [
              "<Figure size 640x480 with 1 Axes>"
            ]
          },
          "metadata": {},
          "output_type": "display_data"
        }
      ],
      "source": [
        "fig, ax1 = plt.subplots()\n",
        "ax1.plot(xP.detach().cpu().numpy(),(f(xP)-model(xP)).detach().cpu().numpy(),color='red',label='Difference')\n",
        "#ax1.plot(x_test_plot.detach().numpy(),y_test_plot.detach().numpy(),color='green',label='Real_Test')\n",
        "#ax1.plot(x_test_plot.detach().numpy(),yh_test_plot.detach().numpy(),color='orange',label='Pred_Test')\n",
        "ax1.set_xlabel('x',color='black')\n",
        "ax1.set_ylabel('f(x)-f0(x)',color='black')\n",
        "ax1.tick_params(axis='y', color='black')\n",
        "ax1.legend(loc = 'upper left')"
      ]
    }
  ],
  "metadata": {
    "accelerator": "GPU",
    "colab": {
      "collapsed_sections": [],
      "include_colab_link": true,
      "machine_shape": "hm",
      "name": "1.Approximate_a_function.ipynb",
      "provenance": []
    },
    "kernelspec": {
      "display_name": "Python 3",
      "name": "python3"
    },
    "language_info": {
      "codemirror_mode": {
        "name": "ipython",
        "version": 3
      },
      "file_extension": ".py",
      "mimetype": "text/x-python",
      "name": "python",
      "nbconvert_exporter": "python",
      "pygments_lexer": "ipython3",
      "version": "3.10.7"
    }
  },
  "nbformat": 4,
  "nbformat_minor": 0
}
